{
 "cells": [
  {
   "cell_type": "code",
   "execution_count": null,
   "metadata": {},
   "outputs": [],
   "source": [
    "from scipy import signal\n",
    "# import statsmodels.formula.api as sm\n",
    "from sklearn import linear_model\n",
    "from daq.pico import Data\n",
    "import holoviews as hv\n",
    "import datashader as ds\n",
    "import numpy as np\n",
    "from holoviews.operation.datashader import datashade, dynspread\n",
    "hv.extension('bokeh')\n"
   ]
  },
  {
   "cell_type": "code",
   "execution_count": null,
   "metadata": {
    "collapsed": true
   },
   "outputs": [],
   "source": [
    "%opts RGB [width=800, height=350]"
   ]
  },
  {
   "cell_type": "code",
   "execution_count": null,
   "metadata": {},
   "outputs": [],
   "source": [
    "data = Data()\n",
    "dfd = data.load('./data/20171018-0012.nc')\n"
   ]
  },
  {
   "cell_type": "code",
   "execution_count": null,
   "metadata": {},
   "outputs": [],
   "source": [
    "df = dfd.copy()\n",
    "\n",
    "b, a = signal.butter(1, 0.0001)\n",
    "\n",
    "df.loc[:, 'res_volt_smooth'] = signal.filtfilt(b, a, df.res_volt.values)\n",
    "df.loc[:, 'sec_volt_smooth'] = signal.filtfilt(b, a, df.sec_volt.values)\n",
    "df.loc[:, 'sin'] = np.sin(2 * np.pi * 20 * df.t)\n",
    "df.loc[:, 'cos'] = np.cos(2 * np.pi * 20 * df.t)\n",
    "\n",
    "model = linear_model.LinearRegression()\n",
    "X = df.loc[:, ['sin', 'cos']].values\n",
    "y = np.expand_dims(df.res_volt.values, 1)\n",
    "model.fit(X, y)\n",
    "df.loc[:, 'res_harmonic_fit'] = model.predict(X)[:, 0]\n",
    "\n",
    "model = linear_model.LinearRegression()\n",
    "X = df.loc[:, ['sin', 'cos']].values \n",
    "y = np.expand_dims(df.sec_volt.values, 1)\n",
    "model.fit(X, y)\n",
    "df.loc[:, 'sec_harmonic_fit'] = model.predict(X)[:, 0]\n",
    "\n",
    "\n",
    "df.loc[:, 'res_resid'] = df.res_volt - df.res_harmonic_fit\n",
    "df.loc[:, 'sec_resid'] = df.sec_volt - df.sec_harmonic_fit\n",
    "\n",
    "\n",
    "\n",
    "df.head()\n"
   ]
  },
  {
   "cell_type": "code",
   "execution_count": null,
   "metadata": {
    "scrolled": false
   },
   "outputs": [],
   "source": [
    "c1 = hv.Points((df.sec_harmonic_fit, df.sec_resid), kdims=['Harmonic Fit', 'Fit Residual'])\n",
    "c1 = datashade(c1, aggregator=ds.reductions.count(), cmap=pl.get_cmap('inferno'))\n",
    "\n",
    "\n",
    "dynspread(c1)"
   ]
  },
  {
   "cell_type": "code",
   "execution_count": null,
   "metadata": {},
   "outputs": [],
   "source": [
    "c1 = hv.Points((df.res_harmonic_fit, df.res_resid), kdims=['Harmonic Fit', 'Fit Residual'])\n",
    "c1 = datashade(c1, aggregator=ds.reductions.count(), cmap=pl.get_cmap('inferno'))\n",
    "c1"
   ]
  },
  {
   "cell_type": "code",
   "execution_count": null,
   "metadata": {},
   "outputs": [],
   "source": [
    "import pylab as pl\n",
    "pl.get_cmap('viridis')"
   ]
  },
  {
   "cell_type": "code",
   "execution_count": null,
   "metadata": {},
   "outputs": [],
   "source": [
    "c1 = hv.Curve((df.t, df.res_volt))\n",
    "c1 = datashade(c1, aggregator=ds.reductions.any(), cmap=['blue'])\n",
    "\n",
    "c2 = hv.Curve((df.t, df.res_volt_smooth))\n",
    "c2 = datashade(c2, aggregator=ds.reductions.any(), cmap=['red'])\n",
    "\n",
    "c3 = hv.Curve((df.t, df.harmonic_fit))\n",
    "c3 = datashade(c3, aggregator=ds.reductions.any(), cmap=['green'])\n",
    "\n",
    "c1 * c2 * c3"
   ]
  },
  {
   "cell_type": "code",
   "execution_count": null,
   "metadata": {},
   "outputs": [],
   "source": [
    "c1 = hv.Curve((df.t, df.sec_volt))\n",
    "c1 = datashade(c1, aggregator=ds.reductions.any(), cmap=['blue'])\n",
    "\n",
    "c2 = hv.Curve((df.t, df.sec_volt_smooth))\n",
    "c2 = datashade(c2, aggregator=ds.reductions.any(), cmap=['red'])\n",
    "\n",
    "c1 * c2"
   ]
  },
  {
   "cell_type": "code",
   "execution_count": null,
   "metadata": {},
   "outputs": [],
   "source": [
    "data.meta"
   ]
  },
  {
   "cell_type": "code",
   "execution_count": null,
   "metadata": {},
   "outputs": [],
   "source": [
    ".001*(.5 / 2.3900000001297883e-06)"
   ]
  },
  {
   "cell_type": "code",
   "execution_count": null,
   "metadata": {
    "collapsed": true
   },
   "outputs": [],
   "source": []
  }
 ],
 "metadata": {
  "kernelspec": {
   "display_name": "Python 3",
   "language": "python",
   "name": "python3"
  },
  "language_info": {
   "codemirror_mode": {
    "name": "ipython",
    "version": 3
   },
   "file_extension": ".py",
   "mimetype": "text/x-python",
   "name": "python",
   "nbconvert_exporter": "python",
   "pygments_lexer": "ipython3",
   "version": "3.6.2"
  }
 },
 "nbformat": 4,
 "nbformat_minor": 2
}
