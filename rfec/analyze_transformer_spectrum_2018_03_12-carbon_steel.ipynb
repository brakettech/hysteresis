{
 "cells": [
  {
   "cell_type": "code",
   "execution_count": null,
   "metadata": {},
   "outputs": [],
   "source": [
    "import numpy as np\n",
    "import pandas as pd\n",
    "import seaborn as sns\n",
    "sns.set_context('notebook')\n",
    "sns.set(style='darkgrid')\n",
    "from pipe import Pipe\n",
    "\n",
    "%matplotlib inline\n",
    "import pylab as pl\n",
    "import holoviews as hv\n",
    "hv.extension('bokeh')\n"
   ]
  },
  {
   "cell_type": "code",
   "execution_count": null,
   "metadata": {
    "scrolled": true
   },
   "outputs": [],
   "source": [
    "test_log_file = '20180312_test_log.csv'\n",
    "data_dir = './20180312/'\n",
    "channel_mapper= dict(\n",
    "    a='sig_gen',\n",
    "    b='res_volt',\n",
    "    c='rec_volt',\n",
    "    d='sec_volt'\n",
    ")\n",
    "df_log = pd.read_csv(test_log_file).drop(['test_no'], axis=1)\n",
    "df_log = df_log.rename(columns=dict(primary_position='pos'))\n",
    "df_log.loc[:, 'file_name'] = [f'{fn}.csv' for fn in df_log.file_name]\n",
    "\n",
    "df_log.head()"
   ]
  },
  {
   "cell_type": "code",
   "execution_count": null,
   "metadata": {
    "scrolled": false
   },
   "outputs": [],
   "source": [
    "def get_data(reload=False):\n",
    "    if reload:\n",
    "        df = None\n",
    "        for (pipe_label, pos), batch in df_log.groupby(by=['sample', 'fatigue_life']):\n",
    "            p = Pipe(pipe_label, batch, channel_mapper, data_dir=data_dir, n_jobs=2, harmonic=3)\n",
    "            p.process()\n",
    "            if df is None:\n",
    "                df = p.df\n",
    "            else:\n",
    "                df = df.append(p.df, ignore_index=True)\n",
    "        df.to_csv('results.txt', index=False)\n",
    "    df = pd.read_csv('./results.txt')\n",
    "    df = df.rename(columns={'pipe': 'pipe_label'})\n",
    "    return df\n",
    "\n",
    "df = get_data(reload=False)\n",
    "df = df[df.pipe_label.str.startswith('cs')]\n",
    "df.loc[:, 'pipe_label'] = df.pipe_label.map(lambda s: 'virgin' if s == 'cs_0' else s)\n",
    "df.head(3)"
   ]
  },
  {
   "cell_type": "code",
   "execution_count": null,
   "metadata": {},
   "outputs": [],
   "source": [
    "df.pipe_label.unique()"
   ]
  },
  {
   "cell_type": "code",
   "execution_count": null,
   "metadata": {
    "collapsed": true
   },
   "outputs": [],
   "source": [
    "def get_col(df, col_name):\n",
    "    df = df.pivot(index='pos', columns='pipe_label', values=col_name)\n",
    "    df = df.reset_index(drop=False)\n",
    "    df.index.name = col_name\n",
    "    df.columns.name = None\n",
    "    return df"
   ]
  },
  {
   "cell_type": "code",
   "execution_count": null,
   "metadata": {},
   "outputs": [],
   "source": [
    "def do_plot(df, field_name, pipe_labels, title=None, ylabel=None):\n",
    "    xlabel = 'Position along Pipe (inches)'\n",
    "    \n",
    "    dfx = get_col(df, field_name)\n",
    "    pl.rcParams['figure.figsize'] = (20, 6)\n",
    "    sns.set_context('talk')\n",
    "    \n",
    "    pl.subplot(131)\n",
    "    for pipe_label in pipe_labels:\n",
    "        pl.plot(dfx.pos, dfx[pipe_label], '.-', label=pipe_label, )\n",
    "    pl.plot(dfx.pos, dfx.virgin, '.-', label='Virgin', )\n",
    "    pl.legend(loc='best')\n",
    "    pl.xlabel(xlabel)\n",
    "    if ylabel is not None:\n",
    "        pl.title(title);\n",
    "        \n",
    "    pl.subplot(132)\n",
    "    for pipe_label in pipe_labels:\n",
    "        pl.plot(dfx.pos, dfx[pipe_label] / dfx.virgin, '.-', label=f'{pipe_label} ratio')\n",
    "    pl.xlabel(xlabel)\n",
    "    pl.legend(loc='best')\n",
    "    pl.title(title)\n",
    "    pl.subplot(133)\n",
    "    for pipe_label in pipe_labels:\n",
    "        pl.plot(dfx.pos, dfx[pipe_label] - dfx.virgin, '.-', label=f'{pipe_label} diff')\n",
    "    pl.xlabel(xlabel)\n",
    "    pl.title(title)\n",
    "    pl.legend(loc='best')\n",
    "\n",
    "pipe_labels = [\n",
    "    'cs_50',\n",
    "#     'cs_65',\n",
    "    'cs_80',\n",
    "#     'cs_90',\n",
    "    'cs_100_a',\n",
    "#     'cs_100_b',\n",
    "]\n",
    "pl.figure()\n",
    "do_plot(df, 'prim_sec_amp', pipe_labels, title='Primary-Secondary Coupling', ylabel='Mutual Inductance')\n",
    "\n",
    "pl.figure()\n",
    "do_plot(df, 'prim_rec_amp', pipe_labels, title='Primary-Receiver Coupling', ylabel='Mutual Inductance')\n",
    "pl.figure()\n",
    "do_plot(df, 'sec_harm_db', pipe_labels, title='3rd Harmonic Power', ylabel='dB')\n",
    "\n"
   ]
  },
  {
   "cell_type": "code",
   "execution_count": null,
   "metadata": {
    "collapsed": true
   },
   "outputs": [],
   "source": []
  },
  {
   "cell_type": "code",
   "execution_count": null,
   "metadata": {},
   "outputs": [],
   "source": [
    "df.head()"
   ]
  },
  {
   "cell_type": "code",
   "execution_count": null,
   "metadata": {
    "collapsed": true
   },
   "outputs": [],
   "source": [
    "from daq.pico import CSV\n",
    "from harmonic import Harmonic\n",
    "from easier import shade\n",
    "from scipy import signal"
   ]
  },
  {
   "cell_type": "code",
   "execution_count": null,
   "metadata": {
    "collapsed": true
   },
   "outputs": [],
   "source": [
    "file_name = './20180312/20180312-0005.csv'\n",
    "df = CSV(file_name=file_name, max_sample_freq=1e9, **channel_mapper).df\n",
    "# filter_cols = ['res_volt', 'sec_volt', 'rec_volt']\n",
    "# for col in filter_cols:\n",
    "#     # 8 pol filter at .01 of nyquist\n",
    "#     b, a = signal.butter(8, 0.01)\n",
    "#     df.loc[:, col] = signal.filtfilt(b, a, df[col].values, padlen=150)\n",
    "\n",
    "\n",
    "harmonics = [1, 3,]\n",
    "h_i_prim = Harmonic(harmonics=harmonics)\n",
    "h_i_prim.fit(df.t, df.res_volt)\n",
    "h_i_prim = h_i_prim.derivative()\n",
    "\n",
    "h_v_sec = Harmonic(harmonics=harmonics)\n",
    "h_v_sec.fit(df.t, df.sec_volt)\n",
    "\n",
    "h_v_rec = Harmonic(harmonics=harmonics)\n",
    "h_v_rec.fit(df.t, df.rec_volt)\n",
    "\n",
    "# compute \"impedence\" objects\n",
    "h_z_prim_sec = h_v_sec / h_i_prim\n",
    "h_z_prim_rec = h_v_rec / h_i_prim\n",
    "h_z_sec_rec = h_v_rec / h_v_sec\n",
    "\n"
   ]
  },
  {
   "cell_type": "code",
   "execution_count": null,
   "metadata": {},
   "outputs": [],
   "source": [
    "%%opts RGB [width=800, height=350]\n",
    "x, y = df.t, df.sec_volt\n",
    "yf = h_v_sec.predict(df.t)\n",
    "\n",
    "((\n",
    "    shade(hv.Curve((x, y)), color='blue')\n",
    "    *shade(hv.Curve((x, yf)), color='red')\n",
    ") + (\n",
    "    shade(hv.Curve((x, y - yf), vdims=['sss']), color='blue')\n",
    ")).cols(1)\n"
   ]
  },
  {
   "cell_type": "code",
   "execution_count": null,
   "metadata": {},
   "outputs": [],
   "source": [
    "%%opts RGB [width=800, height=350]\n",
    "x, y = df.t, df.sec_volt\n",
    "yf = h_v_sec.predict(df.t)\n",
    "\n",
    "((\n",
    "    shade(hv.Curve((x, y)), color='blue')\n",
    "    *shade(hv.Curve((x, yf)), color='red')\n",
    ") + (\n",
    "    shade(hv.Curve((x, y - yf), vdims=['sss']), color='blue')\n",
    ")).cols(1)\n"
   ]
  },
  {
   "cell_type": "code",
   "execution_count": null,
   "metadata": {},
   "outputs": [],
   "source": [
    "%%opts RGB [width=800, height=350]\n",
    "from scipy import signal\n",
    "t, y = df.t.values, df.sec_volt.values\n",
    "\n",
    "b, a = signal.butter(8, 0.01)\n",
    "yf1 = signal.filtfilt(b, a, y, padlen=150)\n",
    "\n",
    "kd = hv.Dimension('time', range=(0, .1))\n",
    "vd = hv.Dimension('amp', range=(-6.5, 6.5))\n",
    "\n",
    "(\n",
    "shade(hv.Curve((t, y), kdims=[kd], vdims=[vd]))    \n",
    "*shade(hv.Curve((t, yf1), kdims=[kd], vdims=[vd]), color='red')  \n",
    "*shade(hv.Curve((t, yf2), kdims=[kd], vdims=[vd]), color='green')  \n",
    "    \n",
    ")\n"
   ]
  },
  {
   "cell_type": "code",
   "execution_count": null,
   "metadata": {},
   "outputs": [],
   "source": [
    ".005 * round(.5 / (t[1] - t[0]))"
   ]
  },
  {
   "cell_type": "code",
   "execution_count": null,
   "metadata": {
    "collapsed": true
   },
   "outputs": [],
   "source": [
    "class SFFT:\n",
    "    def _get_padded_length(self, initial_length, interp_exp=0):\n",
    "        for nn in range(int(1e6)):\n",
    "            padded_length = 2 ** nn\n",
    "            if padded_length >= initial_length:\n",
    "                break\n",
    "        return padded_length * 2 ** interp_exp\n",
    "\n",
    "    def fft(self, time, amplitude, interp_exp=3):\n",
    "        # demean the signal\n",
    "        amplitude = amplitude - np.mean(amplitude)\n",
    "\n",
    "        # pad length to power of two with maybe some interpolation\n",
    "        padded_length = self._get_padded_length(len(amplitude), interp_exp=interp_exp)\n",
    "\n",
    "        # get the sample time\n",
    "        dt = np.median(np.diff(time))\n",
    "\n",
    "        # compute the fft\n",
    "        z = np.fft.fft(amplitude, n=padded_length)\n",
    "\n",
    "        # define a slice for postive frequencies\n",
    "        ind = slice(0, int((len(z) / 4)))\n",
    "\n",
    "        # get positive amplitudes\n",
    "        amp_f = np.abs(z)[ind]\n",
    "\n",
    "        # compute positive freqs\n",
    "        f = np.fft.fftfreq(len(z), d=dt)[ind]\n",
    "        return f, amp_f\n",
    "   \n",
    "f, amp = SFFT().fft(df.t, df.sec_volt - df.sec_volt.mean())"
   ]
  },
  {
   "cell_type": "code",
   "execution_count": null,
   "metadata": {},
   "outputs": [],
   "source": [
    "%%opts Curve [width=800, height=350 logy=False, logx=False]\n",
    "hv.Curve((f, amp))"
   ]
  },
  {
   "cell_type": "code",
   "execution_count": null,
   "metadata": {},
   "outputs": [],
   "source": [
    "pl.loglog(f, amp)"
   ]
  },
  {
   "cell_type": "code",
   "execution_count": null,
   "metadata": {
    "collapsed": true
   },
   "outputs": [],
   "source": [
    "from astropy import units as u"
   ]
  },
  {
   "cell_type": "code",
   "execution_count": null,
   "metadata": {},
   "outputs": [],
   "source": [
    "C = 80 * u.uF\n",
    "(1. / (1j * 2 * np.pi * 50000 * u.Hz * C)).to(u.Ohm)"
   ]
  },
  {
   "cell_type": "code",
   "execution_count": null,
   "metadata": {},
   "outputs": [],
   "source": [
    "f = 50 * u.kHz\n",
    "w = 2 * np.pi * f\n",
    "C = 10 * u.uF\n",
    "X = 1. / (1j * w * C)\n",
    "X.to(u.Ohm)"
   ]
  },
  {
   "cell_type": "code",
   "execution_count": null,
   "metadata": {},
   "outputs": [],
   "source": [
    "# demean the signal\n",
    "amplitude = amplitude - np.mean(amplitude)\n",
    "\n",
    "# pad length to power of two with maybe some interpolation\n",
    "padded_length = self._get_padded_length(len(amplitude), interp_exp=interp_exp)\n",
    "\n",
    "# get the sample time\n",
    "dt = np.median(np.diff(time))\n",
    "\n",
    "# compute the fft\n",
    "z = fft(amplitude, n=padded_length)\n",
    "\n",
    "# define a slice for postive frequencies\n",
    "ind = slice(0, int((len(z) / 2)))\n",
    "\n",
    "# get positive amplitudes\n",
    "amp_f = np.abs(z)[ind]\n",
    "\n",
    "# compute positive freqs\n",
    "f = np.fft.fftfreq(len(z), d=dt)[ind]\n",
    "\n",
    "# return the max freq\n",
    "return f[np.where(amp_f == np.max(amp_f))[0]][0]"
   ]
  },
  {
   "cell_type": "code",
   "execution_count": null,
   "metadata": {
    "collapsed": true
   },
   "outputs": [],
   "source": []
  },
  {
   "cell_type": "code",
   "execution_count": null,
   "metadata": {
    "collapsed": true
   },
   "outputs": [],
   "source": []
  }
 ],
 "metadata": {
  "kernelspec": {
   "display_name": "Python 3",
   "language": "python",
   "name": "python3"
  },
  "language_info": {
   "codemirror_mode": {
    "name": "ipython",
    "version": 3
   },
   "file_extension": ".py",
   "mimetype": "text/x-python",
   "name": "python",
   "nbconvert_exporter": "python",
   "pygments_lexer": "ipython3",
   "version": "3.6.2"
  }
 },
 "nbformat": 4,
 "nbformat_minor": 2
}
