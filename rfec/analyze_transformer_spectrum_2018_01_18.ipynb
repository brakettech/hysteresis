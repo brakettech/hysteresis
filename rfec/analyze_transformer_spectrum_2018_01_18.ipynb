{
 "cells": [
  {
   "cell_type": "code",
   "execution_count": null,
   "metadata": {},
   "outputs": [],
   "source": [
    "%matplotlib inline\n",
    "import copy\n",
    "import numpy as np\n",
    "import os\n",
    "import pandas as pd\n",
    "import holoviews as hv\n",
    "from daq.pico import CSV\n",
    "from easier import ParamState, shade, Item\n",
    "from harmonic_analyzer import HarmonicAnalyzer\n",
    "from harmonic import Harmonic\n",
    "from pandashells.lib.lomb_scargle_lib import lomb_scargle\n",
    "from scipy.fftpack import fft, fftshift, ifftshift\n",
    "hv.extension('bokeh')\n",
    "from sklearn.linear_model import LinearRegression, Ridge, Lasso, LassoCV\n",
    "from scipy.optimize import fmin_powell\n",
    "from scipy import signal\n",
    "import seaborn as sns\n",
    "# import matplotlib as mpl\n",
    "from pylab import rcParams\n",
    "sns.set_context('talk')\n",
    "sns.set(style='darkgrid')\n",
    "\n",
    "\n",
    "import pylab as pl\n",
    "pl.rcParams['figure.figsize'] = 11, 8.5\n"
   ]
  },
  {
   "cell_type": "code",
   "execution_count": null,
   "metadata": {
    "collapsed": true
   },
   "outputs": [],
   "source": [
    "%opts Curve [width=700, height=400 show_grid=True tools=['hover']]\n",
    "%opts Scatter (size=5,)\n",
    "%opts RGB [width=700, height=400]\n"
   ]
  },
  {
   "cell_type": "code",
   "execution_count": null,
   "metadata": {
    "scrolled": true
   },
   "outputs": [],
   "source": [
    "test_log_file = '20180118_test_log.csv'\n",
    "data_dir = './20180118//'\n",
    "drive_freq = 25\n",
    "channel_mapper= dict(\n",
    "    a='sig_gen',\n",
    "    b='res_volt',\n",
    "    c='rec_volt',\n",
    "    d='sec_volt'\n",
    ")\n",
    "df_log = pd.read_csv(test_log_file).drop(['test_no', 'excitor_position'], axis=1)\n",
    "df_log = df_log.rename(columns=dict(exciter_rel_to_crack='pos'))\n",
    "df_log = df_log.set_index(['sample', 'pos']).sort_index()[['filename']]\n",
    "\n",
    "df_log"
   ]
  },
  {
   "cell_type": "code",
   "execution_count": null,
   "metadata": {},
   "outputs": [],
   "source": [
    "\"\"\"\n",
    "Care about\n",
    "amp/phase of primary current to secondary voltage\n",
    "frac of power in the 3rd harmonic of secondary\n",
    "\"\"\"\n",
    "\n",
    "rec_list = []\n",
    "for (sample, pos), file_name_ser in df_log.iterrows():\n",
    "    file_name = os.path.join(data_dir, file_name_ser[0])\n",
    "    print(file_name)\n",
    "    df = CSV(file_name=file_name, max_sample_freq=1e9,  **channel_mapper).df\n",
    "    harmonics = [1, 3]\n",
    "\n",
    "    # fit the primary current\n",
    "    h_i_prim = Harmonic(harmonics=harmonics)\n",
    "    h_i_prim.fit(df.t, df.res_volt)\n",
    "    \n",
    "    # fit the secondary voltage\n",
    "    h_v_sec = Harmonic(harmonics=harmonics)\n",
    "#     h_v_sec.fit(df.t, df.sec_volt)\n",
    "    h_v_sec.fit(df.t, df.rec_volt)\n",
    "    \n",
    "    # compute an impedence object\n",
    "    h_z = h_v_sec / h_i_prim\n",
    "    \n",
    "    \n",
    "    # populate some results\n",
    "    rec = dict(\n",
    "        sample=sample,\n",
    "        pos=pos,\n",
    "        z_amp=h_z.amplitudes[0],\n",
    "        z_phase=h_z.phases[0] * 180 / np.pi,\n",
    "        micropower3_frac = 1e3 * h_v_sec.amplitudes[1] ** 2 / np.sum(h_v_sec.amplitudes ** 2)\n",
    "    )\n",
    "    rec_list.append(rec)\n",
    "dfr = pd.DataFrame(rec_list, columns=list(rec.keys()))\n",
    "dfr"
   ]
  },
  {
   "cell_type": "code",
   "execution_count": null,
   "metadata": {
    "collapsed": true
   },
   "outputs": [],
   "source": [
    "def plotter(*args, **kwargs):\n",
    "    pl.scatter(*args, **kwargs)\n",
    "    pl.plot(*args, **kwargs)"
   ]
  },
  {
   "cell_type": "code",
   "execution_count": null,
   "metadata": {},
   "outputs": [],
   "source": [
    "g = sns.FacetGrid(dfr, row='sample', sharey=False, size=3, aspect=3)\n",
    "\n",
    "g.map(plotter , 'pos', 'z_amp')\n",
    "pl.savefig('z_amp.pdf')"
   ]
  },
  {
   "cell_type": "code",
   "execution_count": null,
   "metadata": {},
   "outputs": [],
   "source": [
    "g = sns.FacetGrid(dfr, row='sample', sharey=False, size=3, aspect=3)\n",
    "\n",
    "g.map(plotter , 'pos', 'z_phase')\n",
    "pl.savefig('z_phase.pdf')"
   ]
  },
  {
   "cell_type": "code",
   "execution_count": null,
   "metadata": {},
   "outputs": [],
   "source": [
    "g = sns.FacetGrid(dfr, row='sample', sharey=False, size=3, aspect=3)\n",
    "\n",
    "    \n",
    "g.map(plotter , 'pos', 'micropower3_frac')\n",
    "pl.savefig('harmonic_power.pdf')"
   ]
  },
  {
   "cell_type": "code",
   "execution_count": null,
   "metadata": {},
   "outputs": [],
   "source": [
    "dfr.head()"
   ]
  },
  {
   "cell_type": "code",
   "execution_count": null,
   "metadata": {},
   "outputs": [],
   "source": [
    "dfx = dfr.set_index(['sample', 'pos']).unstack('sample').sort_index(axis=1)\n",
    "dfx"
   ]
  },
  {
   "cell_type": "code",
   "execution_count": null,
   "metadata": {},
   "outputs": [],
   "source": [
    "field = 'micropower3_frac'\n",
    "field = 'z_amp'\n",
    "dfy = dfx.loc[:, pd.IndexSlice[field]].reset_index()\n",
    "dfy.columns.name = None\n",
    "dfy.loc[:, 'delta'] = list(dfy.broken - dfy.virgin)\n",
    "dfy.head()"
   ]
  },
  {
   "cell_type": "code",
   "execution_count": null,
   "metadata": {},
   "outputs": [],
   "source": [
    "pl.plot(dfy.pos, dfy.delta)"
   ]
  },
  {
   "cell_type": "code",
   "execution_count": null,
   "metadata": {
    "collapsed": true
   },
   "outputs": [],
   "source": [
    "# # Code for plotting fits\n",
    "# x = df.t\n",
    "# y = df.sec_volt\n",
    "# h = Harmonic(harmonics=[1, 3])\n",
    "# h.fit(x, y, alpha=.0001, method='regression')\n",
    "# y_fit = h.predict(x)\n",
    "# resid = y - y_fit\n",
    "# b, a = signal.butter(2, 0.001)\n",
    "# resid_smooth = signal.filtfilt(b, a, resid, padlen=150)\n",
    "# (\n",
    "#     shade(hv.Curve((x, y)))\n",
    "#     * shade(hv.Curve((x, y_fit), kdims=['time'], vdims=['amp']), color='red')\n",
    "#     + (\n",
    "#         shade(hv.Curve((x, resid), vdims=['resid']), color='blue')\n",
    "#         *shade(hv.Curve((x, resid_smooth)), color='red')\n",
    "#     )\n",
    "        \n",
    "    \n",
    "# ).cols(1)"
   ]
  }
 ],
 "metadata": {
  "kernelspec": {
   "display_name": "Python 3",
   "language": "python",
   "name": "python3"
  },
  "language_info": {
   "codemirror_mode": {
    "name": "ipython",
    "version": 3
   },
   "file_extension": ".py",
   "mimetype": "text/x-python",
   "name": "python",
   "nbconvert_exporter": "python",
   "pygments_lexer": "ipython3",
   "version": "3.6.2"
  }
 },
 "nbformat": 4,
 "nbformat_minor": 2
}
