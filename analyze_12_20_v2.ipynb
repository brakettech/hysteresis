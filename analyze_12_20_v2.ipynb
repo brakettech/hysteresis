{
 "cells": [
  {
   "cell_type": "code",
   "execution_count": null,
   "metadata": {},
   "outputs": [],
   "source": [
    "import copy\n",
    "import numpy as np\n",
    "import pandas as pd\n",
    "import holoviews as hv\n",
    "from daq.pico import CSV\n",
    "from scipy.optimize import fmin, minimize, basinhopping, fsolve\n",
    "from easier import ParamState, shade, Item\n",
    "from sklearn.linear_model import LinearRegression, RidgeCV, LassoCV, Ridge\n",
    "from harmonic import Harmonic\n",
    "hv.extension('bokeh')"
   ]
  },
  {
   "cell_type": "code",
   "execution_count": null,
   "metadata": {},
   "outputs": [],
   "source": [
    "file_name = './data_20171220/20171220-0003.csv'\n",
    "# file_name = './data_20171220/20171220-0004.csv'\n",
    "# file_name = './data_20171220/20171220-0005.csv'\n",
    "# file_name = './data_20171220/20171220-0001.csv'  # air\n",
    "\n",
    "fundamental_freq = 20\n",
    "\n",
    "df_small = CSV(file_name, a='sig_gen', b='res_volt', c='sec_volt', max_sample_freq=500).df\n",
    "\n",
    "df = CSV(file_name, a='sig_gen', b='res_volt', c='sec_volt', max_sample_freq=3000000).df\n",
    "df.head()"
   ]
  },
  {
   "cell_type": "code",
   "execution_count": null,
   "metadata": {},
   "outputs": [],
   "source": [
    "def refine_fundamental(df, fundamental_freq):\n",
    "    h = Harmonic(freq=fundamental_freq, num_freqs=1)\n",
    "    h.refine_frequency(df.t, df.sig_gen)\n",
    "    return h.f0\n",
    "    \n",
    "fundamental_freq = 20\n",
    "fundamental_freq = refine_fundamental(df_small, fundamental_freq)\n",
    "fundamental_freq"
   ]
  },
  {
   "cell_type": "code",
   "execution_count": null,
   "metadata": {
    "collapsed": true
   },
   "outputs": [],
   "source": []
  },
  {
   "cell_type": "code",
   "execution_count": null,
   "metadata": {
    "collapsed": true
   },
   "outputs": [],
   "source": []
  },
  {
   "cell_type": "code",
   "execution_count": null,
   "metadata": {
    "collapsed": true
   },
   "outputs": [],
   "source": []
  },
  {
   "cell_type": "markdown",
   "metadata": {},
   "source": [
    "# USE SECOND DERIVATIVE TO REGSITER SIGNALS"
   ]
  },
  {
   "cell_type": "code",
   "execution_count": null,
   "metadata": {},
   "outputs": [],
   "source": [
    "%%opts Curve [width=400, height=400 show_grid=True tools=['hover']]\n",
    "\n",
    "alpha=.0001\n",
    "# alpha=.00001\n",
    "\n",
    "# h = Harmonic(freq=fundamental_freq, num_freqs=10)\n",
    "h = Harmonic(freq=fundamental_freq, num_freqs=3)\n",
    "h_res = h.clone()\n",
    "h_sec = h.clone()\n",
    "\n",
    "h_res.fit(df.t, df.res_volt, alpha=alpha)\n",
    "h_sec.fit(df.t, df.sec_volt, alpha=alpha)\n",
    "\n",
    "kwargs = dict(\n",
    "    t=df.t,\n",
    "    dres=-h_res.derivative().predict(df.t),\n",
    "    d2res=-h_res.derivative(2).predict(df.t),\n",
    "    sec=h_sec.predict(df.t - delta),\n",
    "    dsec=h_sec.derivative().predict(df.t - delta)\n",
    ")\n",
    "\n",
    "dff = pd.DataFrame(kwargs, columns=kwargs.keys())\n",
    "for field in [f for f in dff if f != 't']:\n",
    "    dff.loc[:, field] = dff.loc[:, field] / dff.loc[:, field].std()\n",
    "# dff = dff.loc[:, 'res_int': ] / dff.loc[:, 'res_int': ].std()\n",
    "\n",
    "display(dff.head())\n",
    "\n",
    "\n",
    "\n",
    "ind = int(np.median(dff.index))\n",
    "t0 = dff.t.loc[ind]\n",
    "\n",
    "dfs = dff[(dff.t >= t0) & (dff.t < (t0 +  2 * h.period))]\n",
    "\"\"\"\n",
    "running ridge\n",
    "coeff = [  1.28838634e-02  -3.79664937e-05  -9.42967288e-06   5.66581212e-06\n",
    "  -7.68015317e-06  -3.22833448e-02   3.84998243e-05  -6.69813949e-05\n",
    "  -1.12696036e-05  -1.35224942e-05]\n",
    "running ridge\n",
    "coeff = [ -3.18306729e-01  -1.46547454e-04   1.83099310e-05  -2.93660057e-05\n",
    "   1.31909574e-07  -6.70682307e-02   5.31044207e-05  -1.61663808e-03\n",
    "  -4.75333242e-05  -1.02218363e-04]\"\"\"\n",
    "\n",
    "(\n",
    "#     hv.Curve((dfs.dres, dfs.sec), kdims=['dres_'], vdims=['sec_'])\n",
    "    hv.Curve((dfs.dres, dfs.dres - dfs.sec), kdims=['dres_'], vdims=['sec_'])\n",
    "    \n",
    "    + (\n",
    "        hv.Curve(dfs, kdims=['t'], vdims=['dres'], label='dres_')\n",
    "        * hv.Curve(dfs, kdims=['t'], vdims=['sec'], label='sec_')\n",
    "        * hv.Curve(dfs, kdims=['t'], vdims=['d2res'], label='d2res_')\n",
    "        * hv.Curve(dfs, kdims=['t'], vdims=['dsec'], label='dsec_')\n",
    "    )\n",
    ").cols(1)"
   ]
  },
  {
   "cell_type": "code",
   "execution_count": null,
   "metadata": {},
   "outputs": [],
   "source": [
    "x0_d2res = fsolve(h_res.derivative(2).predict, 5.039)[0]\n",
    "x0_dsec = fsolve(h_sec.derivative(1).predict, x0_d2res)[0]\n",
    "x0_d2res, x0_dsec\n",
    "delta = x0_d2res - x0_dsec\n",
    "delta"
   ]
  },
  {
   "cell_type": "code",
   "execution_count": null,
   "metadata": {},
   "outputs": [],
   "source": []
  },
  {
   "cell_type": "code",
   "execution_count": null,
   "metadata": {},
   "outputs": [],
   "source": [
    "fsolve(h_sec.predict, 5.039)"
   ]
  },
  {
   "cell_type": "code",
   "execution_count": null,
   "metadata": {},
   "outputs": [],
   "source": [
    "bool(x.shape)"
   ]
  },
  {
   "cell_type": "code",
   "execution_count": null,
   "metadata": {
    "collapsed": true
   },
   "outputs": [],
   "source": []
  },
  {
   "cell_type": "code",
   "execution_count": null,
   "metadata": {
    "collapsed": true
   },
   "outputs": [],
   "source": [
    "%%opts RGB [width=400, height=400]\n",
    "%%opts Curve [width=400, height=400]\n",
    "\n",
    "def register(df, fundamental_freq):\n",
    "\n",
    "    h = Harmonic(freq=fundamental_freq, num_freqs=5)\n",
    "    h_res = h.clone()\n",
    "    h_sec = h.clone()\n",
    "\n",
    "    h_res.fit(df.t, df.res_volt)\n",
    "    h_sec.fit(df.t, df.sec_volt)\n",
    "\n",
    "    h_res_int = h_res.integral()\n",
    "    kwargs = dict(\n",
    "        t=df.t,\n",
    "        res_int=h_res_int.predict(df.t),\n",
    "        sec=h_sec.predict(df.t + 1 * .00149)\n",
    "    )\n",
    "\n",
    "    dff = pd.DataFrame(kwargs, columns=kwargs.keys())\n",
    "    for field in ['res_int', 'sec']:\n",
    "        dff.loc[:, field] = dff.loc[:, field] / dff.loc[:, field].std()\n",
    "    # dff = dff.loc[:, 'res_int': ] / dff.loc[:, 'res_int': ].std()\n",
    "\n",
    "    display(dff.head())\n",
    "\n",
    "\n",
    "\n",
    "    ind = int(np.median(dff.index))\n",
    "    t0 = dff.t.loc[ind]\n",
    "\n",
    "dfs = dff[(dff.t >= t0) & (dff.t < (t0 +  h.period))]\n",
    "\n",
    "\n",
    "(\n",
    "#     hv.Curve((dfs.res_int, dfs.sec), kdims=['res_int_'], vdims=['sec_'])\n",
    "    hv.Curve((dfs.res_int, dfs.res_int - dfs.sec), kdims=['res_int_'], vdims=['sec_'])\n",
    "    \n",
    "    + (\n",
    "        hv.Curve(dfs, kdims=['t'], vdims=['res_int'])\n",
    "        * hv.Curve(dfs, kdims=['t'], vdims=['sec'])\n",
    "    )\n",
    ")"
   ]
  },
  {
   "cell_type": "code",
   "execution_count": null,
   "metadata": {
    "collapsed": true
   },
   "outputs": [],
   "source": [
    "h"
   ]
  },
  {
   "cell_type": "code",
   "execution_count": null,
   "metadata": {
    "collapsed": true
   },
   "outputs": [],
   "source": []
  },
  {
   "cell_type": "code",
   "execution_count": null,
   "metadata": {
    "collapsed": true
   },
   "outputs": [],
   "source": []
  },
  {
   "cell_type": "code",
   "execution_count": null,
   "metadata": {
    "collapsed": true
   },
   "outputs": [],
   "source": []
  },
  {
   "cell_type": "code",
   "execution_count": null,
   "metadata": {
    "collapsed": true
   },
   "outputs": [],
   "source": []
  },
  {
   "cell_type": "code",
   "execution_count": null,
   "metadata": {
    "collapsed": true
   },
   "outputs": [],
   "source": []
  },
  {
   "cell_type": "code",
   "execution_count": null,
   "metadata": {
    "collapsed": true
   },
   "outputs": [],
   "source": []
  },
  {
   "cell_type": "code",
   "execution_count": null,
   "metadata": {
    "collapsed": true
   },
   "outputs": [],
   "source": []
  }
 ],
 "metadata": {
  "kernelspec": {
   "display_name": "Python 3",
   "language": "python",
   "name": "python3"
  },
  "language_info": {
   "codemirror_mode": {
    "name": "ipython",
    "version": 3
   },
   "file_extension": ".py",
   "mimetype": "text/x-python",
   "name": "python",
   "nbconvert_exporter": "python",
   "pygments_lexer": "ipython3",
   "version": "3.6.2"
  }
 },
 "nbformat": 4,
 "nbformat_minor": 2
}
