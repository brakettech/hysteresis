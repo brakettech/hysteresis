{
 "cells": [
  {
   "cell_type": "code",
   "execution_count": null,
   "metadata": {},
   "outputs": [],
   "source": [
    "import copy\n",
    "import numpy as np\n",
    "import pandas as pd\n",
    "import holoviews as hv\n",
    "from daq.pico import CSV\n",
    "from scipy.optimize import fmin, minimize, basinhopping, fsolve\n",
    "from easier import ParamState, shade, Item\n",
    "from sklearn.linear_model import LinearRegression, RidgeCV, LassoCV, Ridge\n",
    "from harmonic import Harmonic\n",
    "hv.extension('bokeh')"
   ]
  },
  {
   "cell_type": "code",
   "execution_count": null,
   "metadata": {
    "collapsed": true
   },
   "outputs": [],
   "source": [
    "%opts Curve [width=400, height=400 show_grid=True tools=['hover']]\n"
   ]
  },
  {
   "cell_type": "code",
   "execution_count": null,
   "metadata": {
    "collapsed": true
   },
   "outputs": [],
   "source": [
    "# create a small normalizer function\n",
    "def normalizer(y, scale=None, return_scale=False):\n",
    "    if scale is None:\n",
    "        scale = 1. / (np.sqrt(2) * np.std(y))\n",
    "    if return_scale:\n",
    "        return scale * y, scale\n",
    "    else:\n",
    "        return scale * y\n",
    "\n",
    "\n",
    "def demeaner(df):\n",
    "    for col in df.columns:\n",
    "        if col == 't':\n",
    "            continue\n",
    "        df.loc[:, col] = df.loc[:, col] - df.loc[:, col].mean()\n",
    "    return df\n"
   ]
  },
  {
   "cell_type": "code",
   "execution_count": null,
   "metadata": {},
   "outputs": [],
   "source": [
    "file_name, fundamental_freq = './data_20171220/20171220-0003.csv', 20\n",
    "# file_name, fundamental_freq = './data_20171220/20171220-0004.csv', 20\n",
    "# file_name, fundamental_freq = './data_20171220/20171220-0005.csv', 20\n",
    "# file_name, fundamental_freq = './data_20171220/20171220-0001.csv', 20  # air\n",
    "\n",
    "# fundamental_freq = 20\n",
    "# df = CSV(file_name, a='sig_gen', b='res_volt', c='sec_volt', max_sample_freq=3000000).df\n",
    "# df = demeaner(df)\n",
    "# df.head()"
   ]
  },
  {
   "cell_type": "code",
   "execution_count": null,
   "metadata": {},
   "outputs": [],
   "source": [
    "params = ParamState(\n",
    "    alpha=None,\n",
    "#     alpha=.0001,\n",
    "    method='lassocv',\n",
    "    num_freqs=3,\n",
    "    simple_freq_fit=True,\n",
    "    periods=2,\n",
    "    max_sample_freq=1e7,\n",
    "    normalize=True\n",
    ")\n",
    "params"
   ]
  },
  {
   "cell_type": "code",
   "execution_count": null,
   "metadata": {},
   "outputs": [],
   "source": [
    "def get_fit_frame(file_name, fundamental_freq, params):\n",
    "    df = CSV(file_name, a='sig_gen', b='res_volt', c='sec_volt', max_sample_freq=params.max_sample_freq).df\n",
    "    df = demeaner(df)  \n",
    "    \n",
    "    # refine the guess of the fundamental frequency\n",
    "    h = Harmonic(freq=fundamental_freq, num_freqs=1)\n",
    "    f0 = h.refine_frequency(df.t, df.sig_gen, simple=params.simple_freq_fit).f0\n",
    "    \n",
    "    # initialize harmonic objects for resistor and secondary voltages\n",
    "    h_resistor = Harmonic(freq=f0, num_freqs=params.num_freqs)\n",
    "    h_secondary = Harmonic(freq=f0, num_freqs=params.num_freqs)\n",
    "    \n",
    "    h_resistor.fit(df.t, df.res_volt, method=params.method, alpha=params.alpha)\n",
    "    h_secondary.fit(df.t, df.sec_volt, method=params.method, alpha=params.alpha)\n",
    "    \n",
    "    h_actual_deriv = h_secondary.derivative()\n",
    "    h_expected_deriv = -h_resistor.derivative(2)\n",
    "\n",
    "    if params.normalize:\n",
    "        res_fit = h_resistor.predict(df.t)\n",
    "        sec_fit = h_secondary.predict(df.t)\n",
    "        _, res_scale = normalizer(res_fit, return_scale=True)\n",
    "        _, sec_scale = normalizer(sec_fit, return_scale=True)\n",
    "    \n",
    "    \n",
    "    if params.normalize:\n",
    "        df.loc[:, 'res_volt'] = res_scale * df.res_volt\n",
    "        df.loc[:, 'sec_volt'] = sec_scale * df.sec_volt\n",
    "        \n",
    "    t_ref = df.t.iloc[len(df) // 2]\n",
    "    df = df[(df.t >= t_ref) & (df.t < t_ref + params.periods * h.period)].reset_index(drop=True)\n",
    "    \n",
    "        \n",
    "    actual_zero = fsolve(h_actual_deriv.predict, t_ref)\n",
    "    expected_zero = fsolve(h_expected_deriv.predict, actual_zero)\n",
    "    delta = actual_zero - expected_zero\n",
    "\n",
    "    actual_secondary = h_secondary.predict(df.t)\n",
    "    expected_secondary = -h_resistor.derivative().predict(df.t - delta)\n",
    "    if params.normalize:\n",
    "        actual_secondary = normalizer(actual_secondary)\n",
    "        expected_secondary = normalizer(expected_secondary)\n",
    "    \n",
    "    kwargs = dict(\n",
    "        t=df.t,\n",
    "        actual=actual_secondary,\n",
    "        expected=expected_secondary,\n",
    "    )\n",
    "\n",
    "    df_fit = pd.DataFrame(kwargs, columns=kwargs.keys())\n",
    "    return df, df_fit    \n",
    "\n",
    "    \n",
    "\n",
    "df, dff = get_fit_frame(file_name, fundamental_freq, params)\n",
    "display(df.head())\n",
    "display(dff.head())"
   ]
  },
  {
   "cell_type": "code",
   "execution_count": null,
   "metadata": {},
   "outputs": [],
   "source": [
    "(\n",
    "    hv.Curve((dff.actual, dff.expected), kdims=['actual'], vdims=['expected'])\n",
    "    + hv.Curve((dff.actual, dff.expected - dff.actual), kdims=['actual'], vdims=['expected - actual'])\n",
    "    + (\n",
    "        hv.Curve((df.t, df.sec_volt), label='data')\n",
    "        * hv.Curve((dff.t, dff.actual), label='actual')\n",
    "        * hv.Curve((dff.t, dff.expected), label='expected')\n",
    "    )\n",
    "    \n",
    ").cols(1)"
   ]
  },
  {
   "cell_type": "code",
   "execution_count": null,
   "metadata": {
    "collapsed": true
   },
   "outputs": [],
   "source": []
  },
  {
   "cell_type": "code",
   "execution_count": null,
   "metadata": {
    "collapsed": true
   },
   "outputs": [],
   "source": []
  },
  {
   "cell_type": "code",
   "execution_count": null,
   "metadata": {
    "collapsed": true
   },
   "outputs": [],
   "source": []
  }
 ],
 "metadata": {
  "kernelspec": {
   "display_name": "Python 3",
   "language": "python",
   "name": "python3"
  },
  "language_info": {
   "codemirror_mode": {
    "name": "ipython",
    "version": 3
   },
   "file_extension": ".py",
   "mimetype": "text/x-python",
   "name": "python",
   "nbconvert_exporter": "python",
   "pygments_lexer": "ipython3",
   "version": "3.6.2"
  }
 },
 "nbformat": 4,
 "nbformat_minor": 2
}
