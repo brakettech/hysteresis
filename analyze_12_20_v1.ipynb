{
 "cells": [
  {
   "cell_type": "code",
   "execution_count": null,
   "metadata": {},
   "outputs": [],
   "source": [
    "import numpy as np\n",
    "import pandas as pd\n",
    "import holoviews as hv\n",
    "from daq.pico import CSV\n",
    "from scipy.optimize import fmin\n",
    "from easier import ParamState\n",
    "from sklearn.linear_model import LinearRegression, RidgeCV, LassoCV, Ridge\n",
    "hv.extension('bokeh')"
   ]
  },
  {
   "cell_type": "code",
   "execution_count": null,
   "metadata": {
    "collapsed": true
   },
   "outputs": [],
   "source": [
    "def get_freq(df, freq_guess):\n",
    "    x = df.t.values\n",
    "    y = df.sig_gen.values\n",
    "\n",
    "    p = ParamState(\n",
    "        'x',\n",
    "        'y_true',\n",
    "        a=1,\n",
    "        f=freq_guess,\n",
    "        phi=0\n",
    "    )\n",
    "    p.given(\n",
    "        x=x,\n",
    "        y_true=y\n",
    "    )\n",
    "\n",
    "    def model(p):\n",
    "        return p.a * np.sin(2 * np.pi * p.f * x + p.phi)\n",
    "\n",
    "    def cost(args, p):\n",
    "        p.ingest(args)\n",
    "        err = model(p) - p.y_true\n",
    "        return np.sum(err ** 2)\n",
    "\n",
    "    x0 = p.array\n",
    "    xf = fmin(cost, x0, args=(p,), disp=False)\n",
    "    p.ingest(xf)\n",
    "    return p.f"
   ]
  },
  {
   "cell_type": "code",
   "execution_count": null,
   "metadata": {
    "collapsed": true
   },
   "outputs": [],
   "source": [
    "file_name = './data_20171220/20171220-0003.csv'\n",
    "freq_guess = 20\n",
    "df = CSV(file_name, a='sig_gen', b='res_volt', c='sec_volt', max_sample_freq=3000000).df\n",
    "# df = df.head(1000)\n",
    "# f0 = get_freq(df, freq_guess)\n",
    "# max_harmonic = 4\n",
    "\n",
    "# df_basis = pd.DataFrame(index=df.index)\n",
    "\n",
    "# for n in range(1, max_harmonic + 1):\n",
    "#     f = n * f0\n",
    "#     w = 2 * np.pi * f\n",
    "#     scol = f'sin{n:02d}'\n",
    "#     ccol = f'cos{n:02d}'\n",
    "#     df_basis.loc[:, scol] = np.sin(n * w * df.t)\n",
    "#     df_basis.loc[:, ccol] = np.sin(n * w * df.t)\n",
    "# df.head()"
   ]
  },
  {
   "cell_type": "code",
   "execution_count": null,
   "metadata": {},
   "outputs": [],
   "source": [
    "def get_basis_frame(df, fundamental_freq, num_freqs):\n",
    "    f0 = get_freq(df, fundamental_freq)\n",
    "    df_basis = pd.DataFrame(index=df.index)\n",
    "\n",
    "    for n in range(1, num_freqs + 1):\n",
    "        f = n * f0\n",
    "        w = 2 * np.pi * f\n",
    "        scol = f'sin{n:02d}'\n",
    "        ccol = f'cos{n:02d}'\n",
    "        df_basis.loc[:, scol] = np.sin(n * w * df.t)\n",
    "        df_basis.loc[:, ccol] = np.cos(n * w * df.t)\n",
    "    return df_basis   \n",
    "    \n"
   ]
  },
  {
   "cell_type": "code",
   "execution_count": null,
   "metadata": {},
   "outputs": [],
   "source": [
    "def run_fit(df, fundamental_freq, num_freqs):\n",
    "    df_basis = get_basis_frame(df, fundamental_freq, num_freqs)\n",
    "    \n",
    "    y_res = df.res_volt\n",
    "    y_sec = df.sec_volt\n",
    "\n",
    "#     model = LinearRegression()\n",
    "    # model = RidgeCV(store_cv_values=True)\n",
    "    # model = LassoCV()\n",
    "    alpha = .000002\n",
    "    \n",
    "    model_res = Ridge(alpha=alpha)\n",
    "    model_res.fit(df_basis.values, y_res.values)\n",
    "    print(model_res.coef_)\n",
    "    \n",
    "    model_sec = Ridge(alpha=alpha)\n",
    "    model_sec.fit(df_basis.values, y_sec.values)\n",
    "    print(model_sec.coef_)\n",
    "    \n",
    "    y_res_fit = model_res.predict(df_basis.values)\n",
    "    y_sec_fit = model_sec.predict(df_basis.values)\n",
    "    return y_res_fit, y_sec_fit\n",
    "\n",
    "file_name = './data_20171220/20171220-0003.csv'\n",
    "fundamental_freq = 20\n",
    "num_freqs = 5\n",
    "y_res_fit, y_sec_fit = run_fit(df, fundamental_freq, num_freqs)"
   ]
  },
  {
   "cell_type": "code",
   "execution_count": null,
   "metadata": {},
   "outputs": [],
   "source": [
    "xxx = df.res_volt - y_res_fit\n",
    "hv.Histogram(np.histogram(xxx, bins=30))"
   ]
  },
  {
   "cell_type": "code",
   "execution_count": null,
   "metadata": {},
   "outputs": [],
   "source": [
    "%opts Curve [width=500, height=350]\n",
    "(\n",
    "   hv.Curve((df.t, df.res_volt)) * hv.Curve((df.t, y_res_fit))\n",
    "   + hv.Curve((df.t, df.sec_volt)) * hv.Curve((df.t, y_sec_fit))\n",
    "\n",
    ").cols(1)"
   ]
  },
  {
   "cell_type": "code",
   "execution_count": null,
   "metadata": {
    "collapsed": true
   },
   "outputs": [],
   "source": []
  },
  {
   "cell_type": "code",
   "execution_count": null,
   "metadata": {},
   "outputs": [],
   "source": [
    "%%opts Scatter [width=600, height=350 logy=True] (size=10)\n",
    "hv.Scatter((range(len(model.coef_)), np.abs(model.coef_)))"
   ]
  },
  {
   "cell_type": "code",
   "execution_count": null,
   "metadata": {
    "collapsed": true
   },
   "outputs": [],
   "source": []
  },
  {
   "cell_type": "code",
   "execution_count": null,
   "metadata": {
    "collapsed": true
   },
   "outputs": [],
   "source": [
    "%opts Curve [width=500, height=350]\n",
    "(\n",
    "    hv.Curve(df, kdims=['t'], vdims=['sig_gen'], label='_sig_gen')\n",
    "    * hv.Curve((df.t, df_basis.sin01))\n",
    "#     * hv.Curve(df, kdims=['t'], vdims=['sec_volt'], label='_sec_volt')\n",
    "#     * hv.Curve(df, kdims=['t'], vdims=['res_volt'], label='_res_volt')\n",
    ")\n"
   ]
  },
  {
   "cell_type": "code",
   "execution_count": null,
   "metadata": {
    "collapsed": true
   },
   "outputs": [],
   "source": []
  },
  {
   "cell_type": "code",
   "execution_count": null,
   "metadata": {
    "collapsed": true
   },
   "outputs": [],
   "source": []
  },
  {
   "cell_type": "code",
   "execution_count": null,
   "metadata": {
    "collapsed": true
   },
   "outputs": [],
   "source": []
  },
  {
   "cell_type": "code",
   "execution_count": null,
   "metadata": {
    "collapsed": true
   },
   "outputs": [],
   "source": [
    "get_freq(df, 20)"
   ]
  },
  {
   "cell_type": "code",
   "execution_count": null,
   "metadata": {
    "collapsed": true
   },
   "outputs": [],
   "source": []
  }
 ],
 "metadata": {
  "kernelspec": {
   "display_name": "Python 3",
   "language": "python",
   "name": "python3"
  },
  "language_info": {
   "codemirror_mode": {
    "name": "ipython",
    "version": 3
   },
   "file_extension": ".py",
   "mimetype": "text/x-python",
   "name": "python",
   "nbconvert_exporter": "python",
   "pygments_lexer": "ipython3",
   "version": "3.6.2"
  }
 },
 "nbformat": 4,
 "nbformat_minor": 2
}
