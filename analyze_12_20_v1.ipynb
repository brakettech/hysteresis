{
 "cells": [
  {
   "cell_type": "markdown",
   "metadata": {},
   "source": [
    "# Steps for next iteration of this notebook\n",
    "\n",
    "* Fit func gen to get base freq.\n",
    "* Fit n-harmonics of of both resistor integral and secondary to get fit functions\n",
    "* Plot fit results against data to ensure accuracy\n",
    "* Think about physics of how these two voltages should be related to express in B/H\n",
    "* Maybe make a harmonic result class that has methods evaluate, derivative, integral\n",
    "* Pick a mid point in time range and fmin to different points on graph to find\n",
    "  - remanence\n",
    "  - coercivity\n",
    "  - initial permeability\n"
   ]
  },
  {
   "cell_type": "code",
   "execution_count": null,
   "metadata": {},
   "outputs": [],
   "source": [
    "import numpy as np\n",
    "import pandas as pd\n",
    "import holoviews as hv\n",
    "from daq.pico import CSV\n",
    "from scipy.optimize import fmin\n",
    "from easier import ParamState, shade, Item\n",
    "from sklearn.linear_model import LinearRegression, RidgeCV, LassoCV, Ridge\n",
    "hv.extension('bokeh')"
   ]
  },
  {
   "cell_type": "code",
   "execution_count": null,
   "metadata": {
    "collapsed": true
   },
   "outputs": [],
   "source": [
    "def get_freq(df, freq_guess):\n",
    "    x = df.t.values\n",
    "    y = df.sig_gen.values\n",
    "\n",
    "    p = ParamState(\n",
    "        'x',\n",
    "        'y_true',\n",
    "        a=1,\n",
    "        f=freq_guess,\n",
    "        phi=0\n",
    "    )\n",
    "    p.given(\n",
    "        x=x,\n",
    "        y_true=y\n",
    "    )\n",
    "\n",
    "    def model(p):\n",
    "        return p.a * np.sin(2 * np.pi * p.f * x + p.phi)\n",
    "\n",
    "    def cost(args, p):\n",
    "        p.ingest(args)\n",
    "        err = model(p) - p.y_true\n",
    "        return np.sum(err ** 2)\n",
    "\n",
    "    x0 = p.array\n",
    "    xf = fmin(cost, x0, args=(p,), disp=False)\n",
    "    p.ingest(xf)\n",
    "    return p.f"
   ]
  },
  {
   "cell_type": "code",
   "execution_count": null,
   "metadata": {},
   "outputs": [],
   "source": [
    "file_name = './data_20171220/20171220-0003.csv'\n",
    "# file_name = './data_20171220/20171220-0001.csv'  # air\n",
    "\n",
    "freq_guess = 20\n",
    "df = CSV(file_name, a='sig_gen', b='res_volt', c='sec_volt', max_sample_freq=3000000).df\n",
    "# df = df.head(1000)\n",
    "# f0 = get_freq(df, freq_guess)\n",
    "# max_harmonic = 4\n",
    "\n",
    "# df_basis = pd.DataFrame(index=df.index)\n",
    "\n",
    "# for n in range(1, max_harmonic + 1):\n",
    "#     f = n * f0\n",
    "#     w = 2 * np.pi * f\n",
    "#     scol = f'sin{n:02d}'\n",
    "#     ccol = f'cos{n:02d}'\n",
    "#     df_basis.loc[:, scol] = np.sin(n * w * df.t)\n",
    "#     df_basis.loc[:, ccol] = np.sin(n * w * df.t)\n",
    "df.head()"
   ]
  },
  {
   "cell_type": "code",
   "execution_count": null,
   "metadata": {},
   "outputs": [],
   "source": [
    "def get_basis_frame(df, fundamental_freq, num_freqs):\n",
    "    f0 = get_freq(df, fundamental_freq)\n",
    "    df_basis = pd.DataFrame(index=df.index)\n",
    "\n",
    "    for n in range(1, num_freqs + 1):\n",
    "        f = n * f0\n",
    "        w = 2 * np.pi * f\n",
    "        scol = f'sin{n:02d}'\n",
    "        ccol = f'cos{n:02d}'\n",
    "        df_basis.loc[:, scol] = np.sin(n * w * df.t)\n",
    "        df_basis.loc[:, ccol] = np.cos(n * w * df.t)\n",
    "    return Item(\n",
    "        df=df_basis,\n",
    "        f0=f0,\n",
    "        num_freqs=num_freqs,\n",
    "        w0=2 * np.pi * f0\n",
    "    )\n",
    "    \n"
   ]
  },
  {
   "cell_type": "code",
   "execution_count": null,
   "metadata": {},
   "outputs": [],
   "source": [
    "def run_fit(df, fundamental_freq, num_freqs):\n",
    "    basis = get_basis_frame(df, fundamental_freq, num_freqs)\n",
    "    df_basis = basis.df\n",
    "    \n",
    "    y_res = df.res_volt\n",
    "    y_sec = df.sec_volt\n",
    "\n",
    "#     model = LinearRegression()\n",
    "    # model = RidgeCV(store_cv_values=True)\n",
    "    # model = LassoCV()\n",
    "    alpha = .000002\n",
    "    \n",
    "    model_res = Ridge(alpha=alpha)\n",
    "    model_res.fit(df_basis.values, y_res.values)\n",
    "#     print(model_res.coef_)\n",
    "    \n",
    "    model_sec = Ridge(alpha=alpha)\n",
    "    model_sec.fit(df_basis.values, y_sec.values)\n",
    "#     print(model_sec.coef_)\n",
    "    \n",
    "    y_res_fit = model_res.predict(df_basis.values)\n",
    "    y_sec_fit = model_sec.predict(df_basis.values)\n",
    "    \n",
    "    return Item(\n",
    "        res_fit=y_res_fit,\n",
    "        sec_fit=y_sec_fit,\n",
    "        res_coeffs=model_res.coef_,\n",
    "        sec_coeffs=model_sec.coef_,\n",
    "        basis=basis,\n",
    "        df=df,\n",
    "    )\n",
    "    return y_res_fit, y_sec_fit, model_res.coef_\n",
    "\n",
    "file_name = './data_20171220/20171220-0003.csv'\n",
    "fundamental_freq = 20\n",
    "num_freqs = 5\n",
    "res = run_fit(df, fundamental_freq, num_freqs)\n",
    "item = res\n",
    "res\n"
   ]
  },
  {
   "cell_type": "code",
   "execution_count": null,
   "metadata": {
    "collapsed": true
   },
   "outputs": [],
   "source": [
    "def make_fit_functions(item):\n",
    "    terms = {\n",
    "        'sec_fit': [],\n",
    "        'res_int_fit': []\n",
    "    }\n",
    "    f0 = item.basis.f0\n",
    "    num_freqs = item.basis.num_freqs\n",
    "    for n in range(1, num_freqs + 1):\n",
    "        w = 2 * np.pi * f\n",
    "        sfunc = lambda t: np.sin(n * w * t)\n",
    "        cfunc = lambda t: np.cos(n * w * t)\n",
    "        terms['']\n",
    "\n",
    "\n",
    "    \n",
    "\n",
    "    "
   ]
  },
  {
   "cell_type": "code",
   "execution_count": null,
   "metadata": {
    "scrolled": false
   },
   "outputs": [],
   "source": [
    "def integrate(item, coeffs='res'):\n",
    "    f0 = item.basis.f0\n",
    "    num_freqs = item.basis.num_freqs\n",
    "    df_integral = pd.DataFrame(index=item.basis.df.index)\n",
    "\n",
    "    for n in range(1, num_freqs + 1):\n",
    "        f = n * f0\n",
    "        w = 2 * np.pi * f\n",
    "        scol = f'sin{n:02d}'\n",
    "        ccol = f'cos{n:02d}'\n",
    "        # these are the integrals of the named columns\n",
    "        df_integral.loc[:, scol] = - np.cos(n * w * df.t) / (n * w)\n",
    "        df_integral.loc[:, ccol] = np.sin(n * w * df.t) / (n * w)\n",
    "    df_integral = df_integral * item[coeffs + '_coeffs']\n",
    "    integral = df_integral.sum(axis=1)\n",
    "    item[f'{coeffs}_integral_fit'] = integral\n",
    "    \n",
    "    return item\n",
    "                                    \n",
    "\n",
    "item = integrate(item)    \n",
    "item"
   ]
  },
  {
   "cell_type": "code",
   "execution_count": null,
   "metadata": {},
   "outputs": [],
   "source": [
    "item.df.head()"
   ]
  },
  {
   "cell_type": "code",
   "execution_count": null,
   "metadata": {},
   "outputs": [],
   "source": [
    "t = item.df.t\n",
    "(\n",
    "    shade(hv.Curve((t, item.res_fit)), color='blue')\n",
    "    * shade(hv.Curve((t, item.res_integral_fit.diff() / t.diff().median())), color='red')\n",
    ")"
   ]
  },
  {
   "cell_type": "code",
   "execution_count": null,
   "metadata": {},
   "outputs": [],
   "source": [
    "%opts RGB [width=400, height=400]\n",
    "shade(hv.Curve((item.res_integral_fit, item.sec_fit)))"
   ]
  },
  {
   "cell_type": "code",
   "execution_count": null,
   "metadata": {
    "collapsed": true
   },
   "outputs": [],
   "source": []
  }
 ],
 "metadata": {
  "kernelspec": {
   "display_name": "Python 3",
   "language": "python",
   "name": "python3"
  },
  "language_info": {
   "codemirror_mode": {
    "name": "ipython",
    "version": 3
   },
   "file_extension": ".py",
   "mimetype": "text/x-python",
   "name": "python",
   "nbconvert_exporter": "python",
   "pygments_lexer": "ipython3",
   "version": "3.6.2"
  }
 },
 "nbformat": 4,
 "nbformat_minor": 2
}
